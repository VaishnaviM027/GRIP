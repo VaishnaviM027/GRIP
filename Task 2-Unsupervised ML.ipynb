{
 "cells": [
  {
   "cell_type": "markdown",
   "id": "d2b2489c",
   "metadata": {},
   "source": [
    "<h1><b>Sparks Foundation-GRIP OCT21</b></h1>\n",
    "\n",
    "<h2><b>Author - Vaishnavi M</b></h2>\n",
    "\n",
    "<h2><b>Task 2-Unsupervised Machine Learning</b></h2>\n",
    "\n",
    "To predict the optimum number of clusters and represent it visually from the given ‘Iris’ dataset using <b>K-Means Clustering</b>"
   ]
  },
  {
   "cell_type": "markdown",
   "id": "7dcb237b",
   "metadata": {},
   "source": [
    "<h2><b>Importing the libraries</b></h2>\n",
    "\n",
    "Pandas,Numpy,Scikit-learn and matplotlib"
   ]
  },
  {
   "cell_type": "code",
   "execution_count": 1,
   "id": "b93daa45",
   "metadata": {},
   "outputs": [],
   "source": [
    "import numpy as np\n",
    "import pandas as pd\n",
    "import matplotlib.pyplot as plt"
   ]
  },
  {
   "cell_type": "markdown",
   "id": "6eb2b356",
   "metadata": {},
   "source": [
    "<h2><b>Importing the iris dataset</b></h2>"
   ]
  },
  {
   "cell_type": "code",
   "execution_count": 2,
   "id": "6265a13a",
   "metadata": {},
   "outputs": [
    {
     "data": {
      "text/html": [
       "<div>\n",
       "<style scoped>\n",
       "    .dataframe tbody tr th:only-of-type {\n",
       "        vertical-align: middle;\n",
       "    }\n",
       "\n",
       "    .dataframe tbody tr th {\n",
       "        vertical-align: top;\n",
       "    }\n",
       "\n",
       "    .dataframe thead th {\n",
       "        text-align: right;\n",
       "    }\n",
       "</style>\n",
       "<table border=\"1\" class=\"dataframe\">\n",
       "  <thead>\n",
       "    <tr style=\"text-align: right;\">\n",
       "      <th></th>\n",
       "      <th>sepal length (cm)</th>\n",
       "      <th>sepal width (cm)</th>\n",
       "      <th>petal length (cm)</th>\n",
       "      <th>petal width (cm)</th>\n",
       "    </tr>\n",
       "  </thead>\n",
       "  <tbody>\n",
       "    <tr>\n",
       "      <th>0</th>\n",
       "      <td>5.1</td>\n",
       "      <td>3.5</td>\n",
       "      <td>1.4</td>\n",
       "      <td>0.2</td>\n",
       "    </tr>\n",
       "    <tr>\n",
       "      <th>1</th>\n",
       "      <td>4.9</td>\n",
       "      <td>3.0</td>\n",
       "      <td>1.4</td>\n",
       "      <td>0.2</td>\n",
       "    </tr>\n",
       "    <tr>\n",
       "      <th>2</th>\n",
       "      <td>4.7</td>\n",
       "      <td>3.2</td>\n",
       "      <td>1.3</td>\n",
       "      <td>0.2</td>\n",
       "    </tr>\n",
       "    <tr>\n",
       "      <th>3</th>\n",
       "      <td>4.6</td>\n",
       "      <td>3.1</td>\n",
       "      <td>1.5</td>\n",
       "      <td>0.2</td>\n",
       "    </tr>\n",
       "    <tr>\n",
       "      <th>4</th>\n",
       "      <td>5.0</td>\n",
       "      <td>3.6</td>\n",
       "      <td>1.4</td>\n",
       "      <td>0.2</td>\n",
       "    </tr>\n",
       "  </tbody>\n",
       "</table>\n",
       "</div>"
      ],
      "text/plain": [
       "   sepal length (cm)  sepal width (cm)  petal length (cm)  petal width (cm)\n",
       "0                5.1               3.5                1.4               0.2\n",
       "1                4.9               3.0                1.4               0.2\n",
       "2                4.7               3.2                1.3               0.2\n",
       "3                4.6               3.1                1.5               0.2\n",
       "4                5.0               3.6                1.4               0.2"
      ]
     },
     "execution_count": 2,
     "metadata": {},
     "output_type": "execute_result"
    }
   ],
   "source": [
    "from sklearn.datasets import load_iris\n",
    "iris=load_iris()\n",
    "iris_data=pd.DataFrame(iris.data,columns=iris.feature_names)\n",
    "iris_data.head()"
   ]
  },
  {
   "cell_type": "markdown",
   "id": "51b1f0a9",
   "metadata": {},
   "source": [
    "<h2><b>Data Preprocessing</b></h2>"
   ]
  },
  {
   "cell_type": "code",
   "execution_count": 3,
   "id": "e2390cc9",
   "metadata": {},
   "outputs": [],
   "source": [
    "X=iris_data.iloc[:,[0,1,2,3]].values"
   ]
  },
  {
   "cell_type": "markdown",
   "id": "4d402615",
   "metadata": {},
   "source": [
    "<h2><b>Model training</b></h2>"
   ]
  },
  {
   "cell_type": "code",
   "execution_count": 4,
   "id": "a93afe08",
   "metadata": {},
   "outputs": [
    {
     "data": {
      "image/png": "[encoded data removed]",
      "text/plain": [
       "<Figure size 432x288 with 1 Axes>"
      ]
     },
     "metadata": {
      "needs_background": "light"
     },
     "output_type": "display_data"
    }
   ],
   "source": [
    "from sklearn.cluster import KMeans\n",
    "wcss=[ ]\n",
    "for i in range(1,11):\n",
    "    kmeans=KMeans(n_clusters=i,init='k-means++',max_iter=300,n_init=10,random_state=42)\n",
    "    kmeans.fit(X)\n",
    "    wcss.append(kmeans.inertia_)\n",
    "plt.plot(range(1,11),wcss)\n",
    "plt.title('K-Means clustering')\n",
    "plt.xlabel('Number of clusters')\n",
    "plt.ylabel('WCSS')\n",
    "plt.grid()\n",
    "plt.show()"
   ]
  },
  {
   "cell_type": "markdown",
   "id": "7c801826",
   "metadata": {},
   "source": [
    "Using Elbow method(wcss),from the above graph the <b>optimal number of clusters=3</b>."
   ]
  },
  {
   "cell_type": "code",
   "execution_count": 5,
   "id": "6de12f9d",
   "metadata": {},
   "outputs": [],
   "source": [
    "kmeans = KMeans(n_clusters = 3, init = 'k-means++',max_iter = 300, n_init = 10, random_state = 0)\n",
    "y_kmeans = kmeans.fit_predict(X)"
   ]
  },
  {
   "cell_type": "markdown",
   "id": "dd96a2e7",
   "metadata": {},
   "source": [
    "<h2><b>Visualizing the Model cluster</b></h2>"
   ]
  },
  {
   "cell_type": "code",
   "execution_count": 6,
   "id": "4c4e85aa",
   "metadata": {},
   "outputs": [
    {
     "data": {
      "text/plain": [
       "<matplotlib.legend.Legend at 0x25d3d314c40>"
      ]
     },
     "execution_count": 6,
     "metadata": {},
     "output_type": "execute_result"
    },
    {
     "data": {
      "image/png": "[encoded data removed]",
      "text/plain": [
       "<Figure size 576x432 with 1 Axes>"
      ]
     },
     "metadata": {
      "needs_background": "light"
     },
     "output_type": "display_data"
    }
   ],
   "source": [
    "plt.figure(figsize=(8,6))\n",
    "plt.scatter(X[y_kmeans == 0, 0], X[y_kmeans == 0, 1], \n",
    "            s = 100, c = 'yellow', label = 'Iris-setosa')\n",
    "plt.scatter(X[y_kmeans == 1, 0], X[y_kmeans == 1, 1], \n",
    "            s = 100, c = 'blue', label = 'Iris-versicolour')\n",
    "plt.scatter(X[y_kmeans == 2, 0], X[y_kmeans == 2, 1],\n",
    "            s = 100, c = 'red', label = 'Iris-virginica')\n",
    "\n",
    "# Plotting the centroids of the clusters\n",
    "plt.scatter(kmeans.cluster_centers_[:, 0], kmeans.cluster_centers_[:,1], \n",
    "            s = 300, c = 'black', label = 'Centroids')\n",
    "\n",
    "plt.legend()"
   ]
  }
 ],
 "metadata": {
  "kernelspec": {
   "display_name": "Python 3",
   "language": "python",
   "name": "python3"
  },
  "language_info": {
   "codemirror_mode": {
    "name": "ipython",
    "version": 3
   },
   "file_extension": ".py",
   "mimetype": "text/x-python",
   "name": "python",
   "nbconvert_exporter": "python",
   "pygments_lexer": "ipython3",
   "version": "3.8.8"
  }
 },
 "nbformat": 4,
 "nbformat_minor": 5
}
